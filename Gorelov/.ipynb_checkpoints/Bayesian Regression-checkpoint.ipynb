{
 "cells": [
  {
   "cell_type": "markdown",
   "metadata": {},
   "source": [
    "\n",
    "В этом задание мы спрогнозируем норму сбережения M2-M0 байесовским методом, используя вероятностный язык программирования Stan. В задании нужно будет смоделировать сезонную компоненту."
   ]
  },
  {
   "cell_type": "markdown",
   "metadata": {},
   "source": [
    "Stan - высокопроизводительный фреймворк для байесовских моделей и не только. На нем удобно сформулировать модель в виде уравнений, и далее программа методом точечной оптимизации, MCMC, или Variational Inference оценивает параметры с высокой производительностью. От конкурентов его отличает очень хорошая реализация алгоритма HMC (Hamilton Markov Chain). Подробнее о Stan - https://mc-stan.org/users/documentation/. \n",
    "\n",
    "Stan manual - https://github.com/stan-dev/stan/releases/download/v2.17.1/stan-reference-2.17.1.pdf\n",
    "\n"
   ]
  },
  {
   "cell_type": "code",
   "execution_count": null,
   "metadata": {},
   "outputs": [],
   "source": [
    "import pandas as pd\n",
    "import numpy as np\n",
    "import warnings\n",
    "warnings.filterwarnings('ignore')\n",
    "\n",
    "data = pd.read_csv(r\"data_saving_rate.csv\",sep=';',index_col='Date', decimal=',')\n",
    "data.index = pd.to_datetime(data.index, format='%d.%m.%Y')\n",
    "data = data.dropna(axis=1)\n",
    "data.head()"
   ]
  },
  {
   "cell_type": "code",
   "execution_count": null,
   "metadata": {},
   "outputs": [],
   "source": [
    "data['M_growth'] = data['M2-M0'][1:] - data.shift(1)['M2-M0'][1:] # прирост M2-M0 будет нашей целевой переменной\n",
    "data = data.dropna(axis=0)\n",
    "data.head()"
   ]
  },
  {
   "cell_type": "markdown",
   "metadata": {},
   "source": [
    "Создадим файл с кодом на языке stan. Допишите кусок кода. '//' - комментарии в Stan"
   ]
  },
  {
   "cell_type": "code",
   "execution_count": null,
   "metadata": {},
   "outputs": [],
   "source": [
    "%%writefile model.stan\n",
    "\n",
    "//определяем тип данных для модели\n",
    "\n",
    "data{\n",
    "    int<lower=0> N; // длина обучающей выборки\n",
    "    int<lower=0> D; // количество факторов\n",
    "    int<lower=0> P; // длина тестовой выборки\n",
    "    real y[N]; // целевая переменная из обучающей выборки\n",
    "    real x[D,N+P]; // матрица факторов\n",
    "}\n",
    "\n",
    "parameters{ //задаем параметры\n",
    "    real alpha[D];//коэффициенты линейной регрессии\n",
    "    real s[N]; //сезонная составляющая\n",
    "    real sigma; //ошибка регрессии\n",
    "    real sigma2; //ошибка сезонной составляющей\n",
    "}\n",
    "\n",
    "\n",
    "model{ // модель представляет собой: y = (факторы * коэф) + сезонная составляющая + ошибки\n",
    "    for (i in 1:N){\n",
    "        real prd;\n",
    "        prd =0;\n",
    "        for(j in 1:D)  prd=prd+x[j,i]*alpha[j]; #\n",
    "\n",
    "        y[i]~normal(prd+s[i], sigma); //y = (факторы*коэф) + сезонность + ошибка\n",
    "    }\n",
    "\n",
    "    \n",
    "//------------Задание!!!!!!!: дописать слагаемые, описывающие сезонность----------\n",
    "//------------сумма сезонных приростов за каждый месяц в сумме должна равняться 0---------\n",
    "//   s[n] ~ Normal(s[n-11]+..+s[n-1],sigma2); \n",
    "    \n",
    "   for (k in 12:N){           \n",
    " //...............................................      \n",
    "\n",
    "       s[k]~normal(...,sigma2);\n",
    "   }\n",
    "//---------------------------------------------!!!!!!!!!!!!!!!!!!!!!!!!!!!!!------------------------\n",
    "\n",
    "}\n",
    "\n",
    "generated quantities{\n",
    "    real predY[N+P];\n",
    "    real predS[N+P];\n",
    "    for(k in 1:11) predS[k] = s[k];\n",
    "    for (k in 12:N+P){\n",
    "        real prd;\n",
    "        prd =0;\n",
    "        for(l in 1:11) prd=prd-predS[k-l];\n",
    "\n",
    "        predS[k] = normal_rng(prd,sigma2);\n",
    "    }\n",
    "\n",
    "    for(i in 1:N+P){\n",
    "        real prd;\n",
    "        prd =0;\n",
    "        for(j in 1:D)  prd=prd+x[j,i]*alpha[j];\n",
    "        predY[i] = prd+predS[i];\n",
    "\n",
    "\n",
    "    }\n",
    "}"
   ]
  },
  {
   "cell_type": "code",
   "execution_count": null,
   "metadata": {},
   "outputs": [],
   "source": [
    "#скомпилируем код stan в машинный код\n",
    "\n",
    "import pystan\n",
    "model = pystan.StanModel(file='model.stan')"
   ]
  },
  {
   "cell_type": "code",
   "execution_count": null,
   "metadata": {},
   "outputs": [],
   "source": [
    "#разобьем данные на тестовую и обучающую выборку\n",
    "\n",
    "factor = data.M_growth\n",
    "y = data.Savings_rate\n",
    "length = len(y)\n",
    "factor_study = factor.head(int(2 / 3 * length))\n",
    "factor_test = factor.tail(length-int(2 / 3 * length))\n",
    "\n",
    "y_study = y.head(int(2 / 3 * length))\n",
    "y_test = y.tail(length-int(2 / 3 * length))"
   ]
  },
  {
   "cell_type": "code",
   "execution_count": null,
   "metadata": {},
   "outputs": [],
   "source": [
    "#подготовим данные для stan\n",
    "\n",
    "\n",
    "N = len(y_study)\n",
    "P = len(y_test)\n",
    "D = 1\n",
    "y_stan = np.array(y_study)\n",
    "x_stan = [np.array(factor)]\n",
    "data_stan = dict(N=N, D=D, P=P, y=y_stan, x=x_stan)"
   ]
  },
  {
   "cell_type": "code",
   "execution_count": null,
   "metadata": {},
   "outputs": [],
   "source": [
    "#обучим модель и сделаем прогноз\n",
    "#Мы применяем метод Markov Chain Monte Carlo для симуляций из постериорного распределения параметров.\n",
    "#В данном случае мы делаем 2000 симуляций и 2 попытки.\n",
    "#В модели могут всплыть предупреждения о сходимости и т.п. Так как в алгоритме MCMC много параметров управления,\n",
    "#которые следует вдумчиво подобирать. Здесь мы просто знакомимся с методом. \n",
    "fitModel = model.sampling(data=data_stan, iter=200, chains=2)"
   ]
  },
  {
   "cell_type": "code",
   "execution_count": null,
   "metadata": {},
   "outputs": [],
   "source": [
    "#Построим графики\n",
    "\n",
    "import matplotlib.pyplot as plt\n",
    "import matplotlib.patches as mpatches\n",
    "plt.plot(y, c='green')  # факт\n",
    "yfittedAndForecasted = np.mean( np.array(fitModel.extract()['predY']), axis = 0) #fitted_value + прогноз\n",
    "yforecasted = yfittedAndForecasted[-len(y_test):]# прогноз\n",
    "plt.plot(y_test.index, yforecasted, c='red')\n",
    "plt.show()"
   ]
  },
  {
   "cell_type": "code",
   "execution_count": null,
   "metadata": {},
   "outputs": [],
   "source": [
    "stanModRmse = np.sqrt(np.mean((yforecasted - y[-len(y_test):])**2))\n",
    "stanModRmse"
   ]
  },
  {
   "cell_type": "code",
   "execution_count": null,
   "metadata": {},
   "outputs": [],
   "source": [
    "naiveModelRmse = np.sqrt(np.mean(( np.mean(y_test) - y[-len(y_test):] )**2)) # модель, в которой прогноз целевой переменной равен среднему значению предыдущих.\n",
    "naiveModelRmse"
   ]
  },
  {
   "cell_type": "code",
   "execution_count": null,
   "metadata": {},
   "outputs": [],
   "source": [
    "#Проверка!\n",
    "\n",
    "stanModRmse < naiveModelRmse\n"
   ]
  }
 ],
 "metadata": {
  "kernelspec": {
   "display_name": "Python 3",
   "language": "python",
   "name": "python3"
  },
  "language_info": {
   "codemirror_mode": {
    "name": "ipython",
    "version": 3
   },
   "file_extension": ".py",
   "mimetype": "text/x-python",
   "name": "python",
   "nbconvert_exporter": "python",
   "pygments_lexer": "ipython3",
   "version": "3.6.3"
  }
 },
 "nbformat": 4,
 "nbformat_minor": 1
}
