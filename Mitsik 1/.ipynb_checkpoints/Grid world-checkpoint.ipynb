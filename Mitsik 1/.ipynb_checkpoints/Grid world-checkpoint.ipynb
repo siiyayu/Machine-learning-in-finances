{
 "cells": [
  {
   "cell_type": "markdown",
   "metadata": {},
   "source": [
    "# Описание задания"
   ]
  },
  {
   "cell_type": "markdown",
   "metadata": {},
   "source": [
    "Сетчатый мир представляет собой некоторое поле размера M x N, в одной из клеток которого находится агент."
   ]
  },
  {
   "cell_type": "markdown",
   "metadata": {},
   "source": [
    "Агент может двигаться по сетчатому миру в четырёх направлениях: вверх, вниз, влево и вправо. Однако мир является стохастическим, т.е. с некоторой вероятностью агент может оказаться не в той клетке, где он планировал, а в соседней."
   ]
  },
  {
   "cell_type": "markdown",
   "metadata": {},
   "source": [
    "Цель агента – прийти в определенную клетку мира, в которой он получает награду."
   ]
  },
  {
   "cell_type": "markdown",
   "metadata": {},
   "source": [
    "![Сетчатый мир](Pic1.png)"
   ]
  },
  {
   "cell_type": "markdown",
   "metadata": {},
   "source": [
    "В данном задании мы рассмотрим поле размера 10 x 10. Каждая клетка имеет порядковый номер от 1 до 100.\n",
    "* Возможные действия пронумерованы от 1 до 4."
   ]
  },
  {
   "cell_type": "markdown",
   "metadata": {},
   "source": [
    "Агенту удалось собрать опыт взаимодействия с сетчатым миром, который он сохранил в формате записей (𝑠, 𝑎, 𝑟, 𝑠')."
   ]
  },
  {
   "cell_type": "markdown",
   "metadata": {},
   "source": [
    "Требуется определить какое оптимальное действие агент должен предпринять в каждой клетке мира, чтобы максимизировать свою совокупную награду.\n",
    "* Коэффициент дисконтирования будущих наград равен 0.95."
   ]
  },
  {
   "cell_type": "markdown",
   "metadata": {},
   "source": [
    "# Задание"
   ]
  },
  {
   "cell_type": "markdown",
   "metadata": {},
   "source": [
    "### Загрузка библиотек"
   ]
  },
  {
   "cell_type": "code",
   "execution_count": null,
   "metadata": {
    "collapsed": true
   },
   "outputs": [],
   "source": [
    "import pandas as pd\n",
    "from tabulate import tabulate"
   ]
  },
  {
   "cell_type": "markdown",
   "metadata": {},
   "source": [
    "### Параметры обучения"
   ]
  },
  {
   "cell_type": "code",
   "execution_count": null,
   "metadata": {
    "collapsed": true
   },
   "outputs": [],
   "source": [
    "# Коэффициент дисконтирования будущих наград\n",
    "gamma = 0.95\n",
    "\n",
    "# Параметр скорости обучения\n",
    "learning_rate = 0.5\n",
    "\n",
    "# Критерий сходимости алгоритма\n",
    "tol = 1e-3"
   ]
  },
  {
   "cell_type": "markdown",
   "metadata": {},
   "source": [
    "### Загрузка experience buffer"
   ]
  },
  {
   "cell_type": "code",
   "execution_count": null,
   "metadata": {
    "collapsed": true
   },
   "outputs": [],
   "source": [
    "experience_buffer = pd.read_csv('Grid_world.csv', dtype = int)"
   ]
  },
  {
   "cell_type": "markdown",
   "metadata": {},
   "source": [
    "### Определение множеств возможных состояний и допустимых действий"
   ]
  },
  {
   "cell_type": "code",
   "execution_count": null,
   "metadata": {
    "collapsed": true
   },
   "outputs": [],
   "source": [
    "# Множество возможных состояний\n",
    "state_space = sorted(list(set(experience_buffer['s'])))\n",
    "\n",
    "# Множество допустимых действий\n",
    "action_space = sorted(list(set(experience_buffer['a'])))"
   ]
  },
  {
   "cell_type": "markdown",
   "metadata": {},
   "source": [
    "### Создание Q-матрицы"
   ]
  },
  {
   "cell_type": "code",
   "execution_count": null,
   "metadata": {
    "collapsed": true
   },
   "outputs": [],
   "source": [
    "#####################################################################\n",
    "#################### Начало оцениваемого задания ####################\n",
    "#####################################################################\n",
    "\n",
    "# Создайте Q-матрицу, в которой строки соответствуют возможным состояниям, а столбцы - допустимым действиям\n",
    "Q_matrix = pd.DataFrame(0.0, index=None, columns=None)\n",
    "\n",
    "#####################################################################\n",
    "#################### Конец оцениваемого задания #####################\n",
    "#####################################################################\n",
    "\n",
    "# Копия Q-матрицы на предыдущей итерации для проверки сходимости алгоритма\n",
    "Q_old = Q_matrix.copy()  "
   ]
  },
  {
   "cell_type": "markdown",
   "metadata": {},
   "source": [
    "### Реализация алгоритма Q-обучения"
   ]
  },
  {
   "cell_type": "code",
   "execution_count": null,
   "metadata": {
    "collapsed": true,
    "scrolled": true
   },
   "outputs": [],
   "source": [
    "continue_condition = True\n",
    "i = 0\n",
    "\n",
    "# Итерационный цикл\n",
    "while (continue_condition):\n",
    "    \n",
    "    # Счетчик количества итераций\n",
    "    i += 1\n",
    "    \n",
    "    # Последовательно обрабатываем каждое наблюдение в experience buffer\n",
    "    for index, experience in experience_buffer.iterrows():\n",
    "\n",
    "        # Текущее состояние\n",
    "        s = experience[\"s\"]\n",
    "        \n",
    "        # Выбранное действие\n",
    "        a = experience[\"a\"]\n",
    "        \n",
    "        # Полученная награда\n",
    "        r = experience[\"r\"]\n",
    "        \n",
    "        # Следующее состояние\n",
    "        s_next = experience[\"s'\"]\n",
    "\n",
    "        #####################################################################\n",
    "        #################### Начало оцениваемого задания ####################\n",
    "        #####################################################################\n",
    "        \n",
    "        # Вычислите значение Q-матрицы при совершении действия a в состоянии s. Используйте метод loc.\n",
    "        Q_s_a = None\n",
    "        \n",
    "        # Вычислите максимальное значение Q-матрицы в состоянии s_next. Используйте методы loc и max.\n",
    "        Q_next_max = None\n",
    "        \n",
    "        # Запишите уравнение обновления Q-матрицы. Не забудьте учесть параметр скорости обучения.\n",
    "        Q_matrix.loc[s,a] = None\n",
    "\n",
    "        #####################################################################\n",
    "        #################### Конец оцениваемого задания #####################\n",
    "        #####################################################################\n",
    "    \n",
    "    # Вычисление коэффициента сходимости. После окончания первой итерации он должен быть равен 16009.8365. \n",
    "    convergence_rate = (Q_matrix - Q_old).abs().sum().sum()\n",
    "    print ('Итерация %d завершена. Коэффициент сходимости: %.4f ' % (i, convergence_rate))\n",
    "    \n",
    "    # Проверка выполнения условия сходимости\n",
    "    if (convergence_rate < tol):\n",
    "        continue_condition = False\n",
    "    else:\n",
    "        Q_old = Q_matrix.copy()\n",
    "\n",
    "# Завершение алгоритма. Алгоритм должен завершиться после 8 итераций.\n",
    "print ('\\nНеобходимый коэффициент сходимости был достигнут.')"
   ]
  },
  {
   "cell_type": "markdown",
   "metadata": {},
   "source": [
    "### Вывод оптимальной стратегии"
   ]
  },
  {
   "cell_type": "code",
   "execution_count": null,
   "metadata": {
    "collapsed": true
   },
   "outputs": [],
   "source": [
    "# Для каких состояний вывести оптимальные действия?\n",
    "output_states = [41,42,43,44,45,46,47,48,49,50]\n",
    "\n",
    "# Вывод оптимальных действий\n",
    "optimal_strategy = Q_matrix.idxmax(axis=1).loc[output_states].reset_index()\n",
    "print(tabulate(optimal_strategy.values, headers = ['Состояние', 'Оптимальное действие']))"
   ]
  },
  {
   "cell_type": "markdown",
   "metadata": {
    "collapsed": true
   },
   "source": [
    " "
   ]
  }
 ],
 "metadata": {
  "anaconda-cloud": {},
  "kernelspec": {
   "display_name": "Python 3",
   "language": "python",
   "name": "python3"
  },
  "language_info": {
   "codemirror_mode": {
    "name": "ipython",
    "version": 3
   },
   "file_extension": ".py",
   "mimetype": "text/x-python",
   "name": "python",
   "nbconvert_exporter": "python",
   "pygments_lexer": "ipython3",
   "version": "3.6.1"
  }
 },
 "nbformat": 4,
 "nbformat_minor": 1
}
